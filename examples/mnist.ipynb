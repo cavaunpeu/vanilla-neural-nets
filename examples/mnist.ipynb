{
 "cells": [
  {
   "cell_type": "code",
   "execution_count": 1,
   "metadata": {
    "collapsed": false
   },
   "outputs": [
    {
     "name": "stdout",
     "output_type": "stream",
     "text": [
      "/Users/willwolf/Documents/neural-nets/vanilla-neural-nets\n"
     ]
    }
   ],
   "source": [
    "cd .."
   ]
  },
  {
   "cell_type": "code",
   "execution_count": 2,
   "metadata": {
    "collapsed": false
   },
   "outputs": [],
   "source": [
    "%load_ext autoreload\n",
    "%autoreload 2"
   ]
  },
  {
   "cell_type": "code",
   "execution_count": 23,
   "metadata": {
    "collapsed": false
   },
   "outputs": [],
   "source": [
    "import gzip\n",
    "import pickle\n",
    "import os\n",
    "\n",
    "import numpy as np\n",
    "import pandas as pd\n",
    "from sklearn.datasets import fetch_mldata\n",
    "from sklearn.preprocessing import MinMaxScaler\n",
    "\n",
    "from neural_network.training_batch_generator import MiniBatchGenerator\n",
    "from neural_network.optimization_algorithm import GradientDescent\n",
    "from neural_network.activation_function import SigmoidActivationFunction, ReLUActivationFunction, SoftmaxActivationFunction\n",
    "from neural_network.loss_function import MeanSquaredError, CrossEntropyLoss, LogLikelihoodLoss\n",
    "from neural_network.network import VanillaNeuralNetwork\n",
    "from neural_network.data_object import HoldoutData"
   ]
  },
  {
   "cell_type": "markdown",
   "metadata": {},
   "source": [
    "# Load MNIST data"
   ]
  },
  {
   "cell_type": "code",
   "execution_count": 4,
   "metadata": {
    "collapsed": true
   },
   "outputs": [],
   "source": [
    "mnist = fetch_mldata('MNIST original', data_home='.')\n",
    "mnist.target = np.array(pd.get_dummies(mnist.target))"
   ]
  },
  {
   "cell_type": "markdown",
   "metadata": {},
   "source": [
    "# Separate and scale train and holdout data"
   ]
  },
  {
   "cell_type": "code",
   "execution_count": 5,
   "metadata": {
    "collapsed": true
   },
   "outputs": [],
   "source": [
    "holdout_set_mask = np.array([i % 7 == 0 for i in range(len(mnist.data))])\n",
    "np.random.shuffle(holdout_set_mask)\n",
    "\n",
    "X = mnist.data[~holdout_set_mask].astype(float)\n",
    "y = mnist.target[~holdout_set_mask].astype(float)\n",
    "X_holdout = mnist.data[holdout_set_mask].astype(float)\n",
    "y_holdout = mnist.target[holdout_set_mask].astype(float)"
   ]
  },
  {
   "cell_type": "code",
   "execution_count": 6,
   "metadata": {
    "collapsed": false
   },
   "outputs": [],
   "source": [
    "X = MinMaxScaler().fit_transform(X)\n",
    "X_holdout = MinMaxScaler().fit_transform(X_holdout)"
   ]
  },
  {
   "cell_type": "markdown",
   "metadata": {},
   "source": [
    "# Initialize hyper-parameters"
   ]
  },
  {
   "cell_type": "code",
   "execution_count": 44,
   "metadata": {
    "collapsed": true
   },
   "outputs": [],
   "source": [
    "HIDDEN_LAYER_SIZE = 50\n",
    "LEARNING_RATE = 3.\n",
    "N_EPOCHS = 10\n",
    "TRAINING_BATCH_SIZE = 10\n",
    "RANDOM_STATE = 123"
   ]
  },
  {
   "cell_type": "code",
   "execution_count": 45,
   "metadata": {
    "collapsed": false
   },
   "outputs": [],
   "source": [
    "LAYER_SIZES = [X.shape[1], HIDDEN_LAYER_SIZE, HIDDEN_LAYER_SIZE, y.shape[1]]"
   ]
  },
  {
   "cell_type": "markdown",
   "metadata": {},
   "source": [
    "# Train network"
   ]
  },
  {
   "cell_type": "markdown",
   "metadata": {},
   "source": [
    "### with mean squared error"
   ]
  },
  {
   "cell_type": "code",
   "execution_count": 9,
   "metadata": {
    "collapsed": false
   },
   "outputs": [],
   "source": [
    "vanilla_neural_net = VanillaNeuralNetwork(\n",
    "    layer_sizes=LAYER_SIZES,\n",
    "    training_batch_generator_class=MiniBatchGenerator,\n",
    "    loss_function_class=MeanSquaredError,\n",
    "    activation_function_class=SigmoidActivationFunction,\n",
    "    optimization_algorithm_class=GradientDescent,\n",
    "    learning_rate=LEARNING_RATE,\n",
    "    n_epochs=N_EPOCHS,\n",
    "    training_batch_size=TRAINING_BATCH_SIZE,\n",
    "    random_state=RANDOM_STATE,\n",
    "    holdout_data=HoldoutData(X=X_holdout, y=y_holdout)\n",
    ")"
   ]
  },
  {
   "cell_type": "code",
   "execution_count": 10,
   "metadata": {
    "collapsed": false
   },
   "outputs": [
    {
     "name": "stdout",
     "output_type": "stream",
     "text": [
      "Epoch: 0 | Accuracy: 0.9091\n",
      "Epoch: 1 | Accuracy: 0.9347\n",
      "Epoch: 2 | Accuracy: 0.9412\n",
      "Epoch: 3 | Accuracy: 0.9407\n",
      "Epoch: 4 | Accuracy: 0.9457\n",
      "Epoch: 5 | Accuracy: 0.9516\n",
      "Epoch: 6 | Accuracy: 0.9539\n",
      "Epoch: 7 | Accuracy: 0.9518\n",
      "Epoch: 8 | Accuracy: 0.9527\n",
      "Epoch: 9 | Accuracy: 0.9568\n"
     ]
    }
   ],
   "source": [
    "vanilla_neural_net.fit(X, y)"
   ]
  },
  {
   "cell_type": "markdown",
   "metadata": {},
   "source": [
    "### with cross entropy loss"
   ]
  },
  {
   "cell_type": "code",
   "execution_count": 46,
   "metadata": {
    "collapsed": true
   },
   "outputs": [],
   "source": [
    "LEARNING_RATE = .5"
   ]
  },
  {
   "cell_type": "code",
   "execution_count": 47,
   "metadata": {
    "collapsed": false
   },
   "outputs": [],
   "source": [
    "vanilla_neural_net = VanillaNeuralNetwork(\n",
    "    layer_sizes=LAYER_SIZES,\n",
    "    training_batch_generator_class=MiniBatchGenerator,\n",
    "    loss_function_class=CrossEntropyLoss,\n",
    "    activation_function_class=SigmoidActivationFunction,\n",
    "    optimization_algorithm_class=GradientDescent,\n",
    "    learning_rate=LEARNING_RATE,\n",
    "    n_epochs=N_EPOCHS,\n",
    "    training_batch_size=TRAINING_BATCH_SIZE,\n",
    "    random_state=RANDOM_STATE,\n",
    "    holdout_data=HoldoutData(X=X_holdout, y=y_holdout)\n",
    ")"
   ]
  },
  {
   "cell_type": "code",
   "execution_count": 48,
   "metadata": {
    "collapsed": false
   },
   "outputs": [
    {
     "name": "stdout",
     "output_type": "stream",
     "text": [
      "Epoch: 0 | Accuracy: 0.9204\n",
      "Epoch: 1 | Accuracy: 0.9357\n",
      "Epoch: 2 | Accuracy: 0.9435\n",
      "Epoch: 3 | Accuracy: 0.9447\n",
      "Epoch: 4 | Accuracy: 0.9509\n",
      "Epoch: 5 | Accuracy: 0.9506\n",
      "Epoch: 6 | Accuracy: 0.9539\n",
      "Epoch: 7 | Accuracy: 0.9559\n",
      "Epoch: 8 | Accuracy: 0.9516\n",
      "Epoch: 9 | Accuracy: 0.9552\n"
     ]
    }
   ],
   "source": [
    "vanilla_neural_net.fit(X, y)"
   ]
  },
  {
   "cell_type": "markdown",
   "metadata": {},
   "source": [
    "### with ReLU activations, softmax output and log likelihood loss"
   ]
  },
  {
   "cell_type": "code",
   "execution_count": 40,
   "metadata": {
    "collapsed": true
   },
   "outputs": [],
   "source": [
    "LEARNING_RATE = .0005\n",
    "LAYER_SIZES = [X.shape[1], 256, y.shape[1]]\n",
    "TRAINING_BATCH_SIZE = 256\n",
    "N_EPOCHS = 25\n",
    "WEIGHT_INITIALIZATION_STANDARD_DEVIATION = .1"
   ]
  },
  {
   "cell_type": "code",
   "execution_count": 41,
   "metadata": {
    "collapsed": false
   },
   "outputs": [],
   "source": [
    "vanilla_neural_net = VanillaNeuralNetwork(\n",
    "    layer_sizes=LAYER_SIZES,\n",
    "    training_batch_generator_class=MiniBatchGenerator,\n",
    "    loss_function_class=LogLikelihoodLoss,\n",
    "    activation_function_class=ReLUActivationFunction,\n",
    "    output_layer_activation_function_class=SoftmaxActivationFunction,\n",
    "    optimization_algorithm_class=GradientDescent,\n",
    "    learning_rate=LEARNING_RATE,\n",
    "    n_epochs=N_EPOCHS,\n",
    "    training_batch_size=TRAINING_BATCH_SIZE,\n",
    "    random_state=RANDOM_STATE,\n",
    "    weight_initialization_standard_deviation=WEIGHT_INITIALIZATION_STANDARD_DEVIATION,\n",
    "    holdout_data=HoldoutData(X=X_holdout, y=y_holdout)\n",
    ")"
   ]
  },
  {
   "cell_type": "code",
   "execution_count": 42,
   "metadata": {
    "collapsed": false
   },
   "outputs": [
    {
     "name": "stdout",
     "output_type": "stream",
     "text": [
      "Epoch: 0 | Accuracy: 0.1175\n",
      "Epoch: 1 | Accuracy: 0.1445\n",
      "Epoch: 2 | Accuracy: 0.1833\n",
      "Epoch: 3 | Accuracy: 0.2354\n",
      "Epoch: 4 | Accuracy: 0.3061\n",
      "Epoch: 5 | Accuracy: 0.3704\n",
      "Epoch: 6 | Accuracy: 0.4216\n",
      "Epoch: 7 | Accuracy: 0.4706\n",
      "Epoch: 8 | Accuracy: 0.516\n",
      "Epoch: 9 | Accuracy: 0.5571\n",
      "Epoch: 10 | Accuracy: 0.5832\n",
      "Epoch: 11 | Accuracy: 0.61\n",
      "Epoch: 12 | Accuracy: 0.6251\n",
      "Epoch: 13 | Accuracy: 0.6453\n",
      "Epoch: 14 | Accuracy: 0.6538\n",
      "Epoch: 15 | Accuracy: 0.6654\n",
      "Epoch: 16 | Accuracy: 0.6727\n",
      "Epoch: 17 | Accuracy: 0.6889\n",
      "Epoch: 18 | Accuracy: 0.6986\n",
      "Epoch: 19 | Accuracy: 0.6976\n",
      "Epoch: 20 | Accuracy: 0.6965\n",
      "Epoch: 21 | Accuracy: 0.7126\n",
      "Epoch: 22 | Accuracy: 0.7045\n",
      "Epoch: 23 | Accuracy: 0.7258\n",
      "Epoch: 24 | Accuracy: 0.7176\n"
     ]
    }
   ],
   "source": [
    "vanilla_neural_net.fit(X, y)"
   ]
  }
 ],
 "metadata": {
  "kernelspec": {
   "display_name": "Python 3",
   "language": "python",
   "name": "python3"
  },
  "language_info": {
   "codemirror_mode": {
    "name": "ipython",
    "version": 3
   },
   "file_extension": ".py",
   "mimetype": "text/x-python",
   "name": "python",
   "nbconvert_exporter": "python",
   "pygments_lexer": "ipython3",
   "version": "3.4.3"
  }
 },
 "nbformat": 4,
 "nbformat_minor": 0
}
